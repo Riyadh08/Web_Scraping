{
 "cells": [
  {
   "cell_type": "code",
   "execution_count": null,
   "id": "f582cff5",
   "metadata": {},
   "outputs": [],
   "source": [
    "import requests\n",
    "from bs4 import BeautifulSoup\n",
    "import pandas as pd\n",
    "\n",
    "headers = {\n",
    "    \"accept\": \"text/html,application/xhtml+xml,application/xml;q=0.9,image/avif,image/webp,image/apng,/;q=0.8,application/signed-exchange;v=b3;q=0.7\",\n",
    "    \"accept-language\": \"en-US,en;q=0.9\",\n",
    "    \"cache-control\": \"max-age=0\",\n",
    "    \"cookie\": 'ccsid=997-0059822-9974992; locale=en; blocking_sign_in_interstitial=true; csm-sid=448-9044706-8238887; session-id=138-9449735-4650719; lc-main=en_US; ubid-main=132-0831767-7645715; csm-hit=tb:s-HH6TEBC541XWDPX2HW08|1728400665806&t:1728400665807; session-id-time=2359120669l; session-token=\"9epd7M6HsVRPHteGVvJu5Fk8d+KvASerta8tz+la5w+TVREtncxVnfcCzs8K9EpSg+fQrgx1GgnsD2rLlayR4DmjBe1MsI/hzqbpLxW9fzltLac/Bx4GP/iysuf1f336QEHPYkFM5wvwKAJRlJF/gUtvoqUNgeHO7d0nUgwzQ4n10cVaWcJP8kU3S8U/EG5f1z4kuWhJEC/GxOGAFPM2AwR1aAfDTGc3oUmUkI4heyVFL2PVr5DhINiO23tre2UqOAtOSgArJ6foDhvdkRwB1A2cwygZeAAPu6znpJ+cxdwCK+Qw0zKdF5L4dt5MPkikWWxVqpvSWD4krg+mGhL2EJhFdAQbaWn2SM7qiWrwNN8=\"; x-main=\"qY09NsWCzSNW8b933Yonj4af6qs5TDB0DUsYapgS18@nyKFkHdJj5p@Mt2dldE6F\"; at-main=Atza|IwEBIKKe6dZi9mkGtv2CtS3qsv9NuaJNSNpmNpDSxRXvt17a_x2-zjEpiAOHkEQ34JuOVngoGfAl8dIqliYqOigT30w9CGWKtZI6rgDWz0mruXs-yNgr_nsxBWgaXid-1e8ZvmgQryKo5OgAIx-Lce0ocNWWSfh3g77KeZNETFdonWPAuJz5V82UuuKblmr-o03ZzeyBC7rbWUbFLRhtcSWy7Mqogs8ONE5dM3XgdBITj5b5F2h4Z_ih2WgCM4wTps3r6HY; sess-at-main=\"l6swvzfG2thASaG98K8Nu/j0D/+teOfY5a1UhpsZBz8=\"; likely_has_account=true; *session*id2=4cd4cabfc8c16e891c0f62348aa076dd',\n",
    "    \"if-none-match\": 'W/\"862d60fdc6915eed33d69a373690f36d\"',\n",
    "    \"priority\": \"u=0, i\",\n",
    "    \"sec-ch-ua\": '\"Google Chrome\";v=\"129\", \"Not=A?Brand\";v=\"8\", \"Chromium\";v=\"129\"',\n",
    "    \"sec-ch-ua-mobile\": \"?0\",\n",
    "    \"sec-ch-ua-platform\": '\"Windows\"',\n",
    "    \"sec-fetch-dest\": \"document\",\n",
    "    \"sec-fetch-mode\": \"navigate\",\n",
    "    \"sec-fetch-site\": \"none\",\n",
    "    \"sec-fetch-user\": \"?1\",\n",
    "    \"upgrade-insecure-requests\": \"1\",\n",
    "    \"user-agent\": \"Mozilla/5.0 (Windows NT 10.0; Win64; x64) AppleWebKit/537.36 (KHTML, like Gecko) Chrome/129.0.0.0 Safari/537.36\"\n",
    "}\n",
    "\n",
    "\n",
    "\n",
    "master_list = []\n",
    "for i in range(1,3+1):\n",
    "    url      = f\"https://www.goodreads.com/list/show/1.Best_Books_Ever?page={i}\"\n",
    "    response = requests.get(url, headers=headers)\n",
    "    soup     = BeautifulSoup(response.content, 'html.parser')\n",
    "   \n",
    "    items    = []\n",
    "    for x in soup.find_all('a', {\"class\":\"bookTitle\"}):\n",
    "        item = 'https://www.goodreads.com/' + x['href']\n",
    "        items.append(item)\n",
    "    master_list.extend(items)"
   ]
  }
 ],
 "metadata": {
  "language_info": {
   "name": "python"
  }
 },
 "nbformat": 4,
 "nbformat_minor": 5
}
