{
 "cells": [
  {
   "cell_type": "code",
   "execution_count": 53,
   "id": "defd503d-08e9-4d30-9786-df14d7ef931a",
   "metadata": {},
   "outputs": [],
   "source": [
    "import requests\n",
    "from bs4 import BeautifulSoup\n",
    "import pandas as pd"
   ]
  },
  {
   "cell_type": "code",
   "execution_count": 56,
   "id": "0bc133fb-b172-4437-bb55-90526c92c643",
   "metadata": {},
   "outputs": [],
   "source": [
    "books = []\n",
    "for i in range(1,51):\n",
    "    url         = f\"https://books.toscrape.com/catalogue/page-{i}.html\"\n",
    "    response    = requests.get(url)\n",
    "    response    = response.content\n",
    "    soup        = BeautifulSoup(response,'html.parser')\n",
    "    ol          = soup.find('ol')\n",
    "    articles    = ol.find_all('article',class_='product_pod')\n",
    "    \n",
    "\n",
    "    for article in articles:\n",
    "        image = article.find('img')\n",
    "        title = image.attrs['alt']\n",
    "        star  = article.find('p')\n",
    "        star  = star['class'][1]\n",
    "        price = article.find('p',class_='price_color').text\n",
    "        price = float(price[1:])  #from second index only and then string -> float\n",
    "        books.append([title,price,star])"
   ]
  },
  {
   "cell_type": "code",
   "execution_count": 57,
   "id": "0035d298-fa2b-4bd3-b2af-e8dee56f4d30",
   "metadata": {},
   "outputs": [],
   "source": [
    "df = pd.DataFrame(books, columns=['Title','Price','Star Rating'])"
   ]
  },
  {
   "cell_type": "code",
   "execution_count": 58,
   "id": "755ee985-3cc9-4aaf-af8f-500c5bca5042",
   "metadata": {},
   "outputs": [],
   "source": [
    "# Reset the index to ensure a single index column display\n",
    "df.reset_index(drop=True, inplace=True)\n",
    "# Save to CSV\n",
    "df.to_csv('books.csv', index=False)  # Ensure no index column is saved"
   ]
  }
 ],
 "metadata": {
  "kernelspec": {
   "display_name": "Python 3 (ipykernel)",
   "language": "python",
   "name": "python3"
  },
  "language_info": {
   "codemirror_mode": {
    "name": "ipython",
    "version": 3
   },
   "file_extension": ".py",
   "mimetype": "text/x-python",
   "name": "python",
   "nbconvert_exporter": "python",
   "pygments_lexer": "ipython3",
   "version": "3.11.7"
  }
 },
 "nbformat": 4,
 "nbformat_minor": 5
}
