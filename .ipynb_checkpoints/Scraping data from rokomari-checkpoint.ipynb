{
 "cells": [
  {
   "cell_type": "code",
   "execution_count": 29,
   "id": "b6a6e7bf-ce85-432b-a6a8-70aef49be213",
   "metadata": {},
   "outputs": [],
   "source": [
    "import pandas as pd\n",
    "import requests, openpyxl\n",
    "from bs4 import BeautifulSoup"
   ]
  },
  {
   "cell_type": "code",
   "execution_count": 30,
   "id": "0c941036-0e0b-465e-a4ec-856547a5ece3",
   "metadata": {},
   "outputs": [
    {
     "name": "stdout",
     "output_type": "stream",
     "text": [
      "['Sheet']\n",
      "['Top Rated Books']\n"
     ]
    }
   ],
   "source": [
    "excel = openpyxl.Workbook()\n",
    "print(excel.sheetnames)\n",
    "sheet = excel.active\n",
    "sheet.title = 'Top Rated Books'\n",
    "print(excel.sheetnames)\n",
    "sheet.append(['Book title'])"
   ]
  },
  {
   "cell_type": "code",
   "execution_count": 31,
   "id": "8a2d10e6-af55-4559-89d6-b5232eb3f30c",
   "metadata": {},
   "outputs": [
    {
     "data": {
      "text/plain": [
       "<Response [200]>"
      ]
     },
     "execution_count": 31,
     "metadata": {},
     "output_type": "execute_result"
    }
   ],
   "source": [
    "source =  requests.get('https://www.rokomari.com/lists')\n",
    "# source"
   ]
  },
  {
   "cell_type": "code",
   "execution_count": 32,
   "id": "438af0a1-a3f6-4adf-9d48-2ceb23bebc10",
   "metadata": {},
   "outputs": [],
   "source": [
    "soup = BeautifulSoup(source.text,'html.parser')"
   ]
  },
  {
   "cell_type": "code",
   "execution_count": 33,
   "id": "eedbe3a7-8254-425e-91f9-870b7cc48731",
   "metadata": {},
   "outputs": [],
   "source": [
    "# print(soup)"
   ]
  },
  {
   "cell_type": "code",
   "execution_count": 34,
   "id": "d83b2fa0-4790-4510-8187-32a5cffead4f",
   "metadata": {},
   "outputs": [
    {
     "name": "stdout",
     "output_type": "stream",
     "text": [
      "36\n"
     ]
    }
   ],
   "source": [
    "books_section = soup.find('div', class_='list-page__content').find_all('div', class_='col-3')\n",
    "\n",
    "# Check the length of books\n",
    "print(len(books_section))"
   ]
  },
  {
   "cell_type": "code",
   "execution_count": 35,
   "id": "c98adc5e-8dac-4632-84c3-91e5f739b3b5",
   "metadata": {},
   "outputs": [
    {
     "name": "stdout",
     "output_type": "stream",
     "text": [
      "'Valuk Chanar Boi' Series : 10ti Boi\n",
      "Communication Hacks\n",
      "Amerikar Diary\n",
      "100 Great Marketing Ideas\n",
      "Bolpont\n",
      "Annabiul Khatim\n",
      "Graphic Novel-7 : Mujib (Action Day)\n",
      "Chintar Orchestra\n",
      "ATM Ek Tana Mukhostho\n",
      "Accounting Principles and Application-1 (BMT)\n",
      "A Hand Book On : Clinical Pathology\n",
      "Bishonobi Muhammad PBUH\n",
      "Muhammad ﷺ The Final Messenger\n",
      "Genuine Method of Spoken English (Part 1)\n",
      "Bangladesher Vhumi vabostapona\n",
      "Bipod jokhon niyamat\n",
      "Ekti Lal NoteBook\n",
      "GST Guccho Aid A Unite\n",
      "German Byakoron A1Theke B1\n",
      "Graph Algorithm\n",
      "Atomic habit\n",
      " HSC Parallel Text Physics 1st Paper Chapter-07\n",
      " Office Sohokari Computer Operator, Data Entry Operator, Shat Mudrakhorik Niyog Sohayika\n",
      "Allahor Porichoy\n",
      "Aonno Ghore Aonno Shor \n",
      "Daridromukto Bishwer Jonmo\n",
      "Bajigor\n",
      "Be Smart with Muhammad (Sm.)\n",
      "Shakh Khalid Are Roshid Er 6ti Boi\n",
      "Rrijuda Samagra 1\n",
      "Desh Vhager Golpo\n",
      "Buy Back Your Time\n",
      "Hatekalame Bangla Natural Language Processing\n",
      "Paradoxical Sajid \n",
      "Oracle BCS World Map\n",
      "Gaibanda Zelar Lokosongit : Jibon, Somaj O Songkriti\n"
     ]
    }
   ],
   "source": [
    "for book in books_section:\n",
    "    book_title = book.find('img')['alt']  # Assuming the title is in the alt attribute of an image\n",
    "    print(book_title)\n",
    "    sheet.append([book_title])\n",
    "\n",
    "excel.save('Rokomari Top Books.xlsx')"
   ]
  }
 ],
 "metadata": {
  "kernelspec": {
   "display_name": "Python 3 (ipykernel)",
   "language": "python",
   "name": "python3"
  },
  "language_info": {
   "codemirror_mode": {
    "name": "ipython",
    "version": 3
   },
   "file_extension": ".py",
   "mimetype": "text/x-python",
   "name": "python",
   "nbconvert_exporter": "python",
   "pygments_lexer": "ipython3",
   "version": "3.11.7"
  }
 },
 "nbformat": 4,
 "nbformat_minor": 5
}
